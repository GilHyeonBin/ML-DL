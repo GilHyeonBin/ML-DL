{
  "nbformat": 4,
  "nbformat_minor": 0,
  "metadata": {
    "colab": {
      "provenance": [],
      "authorship_tag": "ABX9TyMCmbJBxi1dgEYg4yu1tKXc",
      "include_colab_link": true
    },
    "kernelspec": {
      "name": "python3",
      "display_name": "Python 3"
    },
    "language_info": {
      "name": "python"
    }
  },
  "cells": [
    {
      "cell_type": "markdown",
      "metadata": {
        "id": "view-in-github",
        "colab_type": "text"
      },
      "source": [
        "<a href=\"https://colab.research.google.com/github/GilHyeonBin/ML-DL/blob/master/%ED%98%BC%EC%9E%90%EA%B3%B5%EB%B6%80%ED%95%98%EB%8A%94_%EB%A8%B8%EC%8B%A0%EB%9F%AC%EB%8B%9D_12%EA%B0%95.ipynb\" target=\"_parent\"><img src=\"https://colab.research.google.com/assets/colab-badge.svg\" alt=\"Open In Colab\"/></a>"
      ]
    },
    {
      "cell_type": "code",
      "execution_count": null,
      "metadata": {
        "id": "7gKvS3PIDiQm",
        "colab": {
          "base_uri": "https://localhost:8080/",
          "height": 131
        },
        "outputId": "2703fd5c-c807-47d9-e5d2-9454c381c002"
      },
      "outputs": [
        {
          "output_type": "error",
          "ename": "SyntaxError",
          "evalue": "ignored",
          "traceback": [
            "\u001b[0;36m  File \u001b[0;32m\"<ipython-input-4-59ebfbde2c1a>\"\u001b[0;36m, line \u001b[0;32m55\u001b[0m\n\u001b[0;31m    print(gs.best_params_)\u001b[0m\n\u001b[0m    ^\u001b[0m\n\u001b[0;31mSyntaxError\u001b[0m\u001b[0;31m:\u001b[0m invalid syntax\n"
          ]
        }
      ],
      "source": [
        "RandomizedSearchCV,\n",
        "RandomizedSearchCV,\n",
        "from numpy.random.mtrand import uniform\n",
        "import pandas as pd\n",
        "\n",
        "wine = pd.read_csv(\"https://bit.ly/wine_csv_data\")\n",
        "\n",
        "data = wine[['alcohol','sugar','pH']].to_numpy()\n",
        "target = wine['class'].to_numpy()\n",
        "\n",
        "from sklearn.model_selection import train_test_split\n",
        "\n",
        "train_input, test_input, train_target, test_target = train_test_split(data, target, test_size = 0.2, random_state = 42)\n",
        "sub_input, val_input, sub_target, val_target = train_test_split(train_input, train_target, test_size = 0.2, random_state=42)\n",
        "\n",
        "print(sub_input.shape, val_input.shape)\n",
        "\n",
        "from sklearn.tree import DecisionTreeClassifier\n",
        "\n",
        "dt = DecisionTreeClassifier(random_state =42)\n",
        "dt.fit(sub_input, sub_target)\n",
        "\n",
        "print(dt.score(sub_input, sub_target))\n",
        "print(dt.score(val_input, val_target))\n",
        "\n",
        "from sklearn.model_selection import cross_validate\n",
        "\n",
        "scores = cross_validate(dt, train_input, train_target)\n",
        "print(scores)\n",
        "\n",
        "import numpy as np\n",
        "\n",
        "print(np.mean(scores['test_score']))\n",
        "\n",
        "from sklearn.model_selection import StratifiedKFold\n",
        "\n",
        "scores = cross_validate(dt, train_input, train_target, cv = StratifiedKFold())\n",
        "print(np.mean(scores['test_score']))\n",
        "\n",
        "splitter = StratifiedKFold(n_splits = 10, shuffle = True, random_state=42)\n",
        "scores = cross_validate(dt, train_input,train_target, cv=splitter)\n",
        "print(np.mean(scores['test_score']))\n",
        "\n",
        "from sklearn.model_selection import GrodSearchCV\n",
        "\n",
        "params = {'min_impurity_decreas':[0.001,0.002,0.003,0.004,0.005]}\n",
        "\n",
        "gs = GrodSearchCV(DecisionTreeClassifier(random_state=42),params,n_jobs=-1)\n",
        "\n",
        "gs.fit(train_input, train_target)\n",
        "\n",
        "dt = gs.best_estimator_\n",
        "print(dt.score(train_input, train_target)\n",
        "\n",
        "print(gs.best_params_)\n",
        "\n",
        "print(gs.cv_results_['mean_test_score'])\n",
        "\n",
        "besr_index = np.argmax(gs.cv_results_['mean_test_score'])\n",
        "print(gs.cv_results_['params'][best_index])\n",
        "\n",
        "params = {'min_impurity_decrease':np.arange(0.0001,0.001,0.0001),\n",
        "          'max_depth': range(5,100,10)\n",
        "          'min_samples_split': range(2,100,10)}\n",
        "\n",
        "gs = GridSearcchCV(DecisionTreeClassifier(random_state=42))\n",
        "gs.fit(train_input,train_target)\n",
        "\n",
        "print(gs.best_params_)\n",
        "\n",
        "print(np.max(gs.cv_results_['mean_test_score']))\n",
        "\n",
        "from scipy.stats import uniform, randint\n",
        "\n",
        "rgen - randint(0, 18)\n",
        "rgen.rvs(10)\n",
        "\n",
        "np.unique(rgen.rvs(1000),return_counts=True)\n",
        "\n",
        "ugen = uniform(0,1)\n",
        "ugen.rvs(10)\n",
        "\n",
        "paranms = {'min_impurity_decreas': uniform(0.0001,0.001),\n",
        "           'max_depth': randint(20,50),\n",
        "           'min_samples_split':randint(2,25),\n",
        "           'min_samples_leaf' : randint(1,25),\n",
        "           }\n",
        "\n",
        "from sklean.model_selectio import RandomizedSearchCV\n",
        "\n",
        "gs = RandomizedSearchCV(DecisionTreeClassifier(random_state = 42), params,\n",
        "                        n_iter=100, n_jobs=-1, random_state=42)\n",
        "\n",
        "gs.fit(train_input, train_target)\n",
        "\n",
        "print(gs.best_pasrams_)\n",
        "\n",
        "print(np.max(gs.cv_results_['mean_test_score']))\n",
        "\n",
        "dt= gs.best_estimator_\n",
        "\n",
        "print(dt.score(test_input,test_target))\n",
        "\n",
        "\n"
      ]
    }
  ]
}