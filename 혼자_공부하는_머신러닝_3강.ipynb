{
  "nbformat": 4,
  "nbformat_minor": 0,
  "metadata": {
    "colab": {
      "provenance": [],
      "authorship_tag": "ABX9TyOaH3XDiJLTcyRwhnyvH2D9",
      "include_colab_link": true
    },
    "kernelspec": {
      "name": "python3",
      "display_name": "Python 3"
    },
    "language_info": {
      "name": "python"
    }
  },
  "cells": [
    {
      "cell_type": "markdown",
      "metadata": {
        "id": "view-in-github",
        "colab_type": "text"
      },
      "source": [
        "<a href=\"https://colab.research.google.com/github/GilHyeonBin/ML-DL/blob/master/%ED%98%BC%EC%9E%90_%EA%B3%B5%EB%B6%80%ED%95%98%EB%8A%94_%EB%A8%B8%EC%8B%A0%EB%9F%AC%EB%8B%9D_3%EA%B0%95.ipynb\" target=\"_parent\"><img src=\"https://colab.research.google.com/assets/colab-badge.svg\" alt=\"Open In Colab\"/></a>"
      ]
    },
    {
      "cell_type": "code",
      "execution_count": 8,
      "metadata": {
        "colab": {
          "base_uri": "https://localhost:8080/",
          "height": 1000
        },
        "id": "9fCooaKNcXyf",
        "outputId": "15639113-5ef8-44e7-87fe-4add449cb993"
      },
      "outputs": [
        {
          "output_type": "display_data",
          "data": {
            "text/plain": [
              "<Figure size 432x288 with 1 Axes>"
            ],
            "image/png": "[encoded data removed]"
          },
          "metadata": {
            "needs_background": "light"
          }
        },
        {
          "output_type": "display_data",
          "data": {
            "text/plain": [
              "<Figure size 432x288 with 1 Axes>"
            ],
            "image/png": "[encoded data removed]"
          },
          "metadata": {
            "needs_background": "light"
          }
        },
        {
          "output_type": "stream",
          "name": "stdout",
          "text": [
            "[[25.4, 25.4], [26.3, 26.3], [26.5, 26.5], [29.0, 29.0], [29.0, 29.0], [29.7, 29.7], [29.7, 29.7], [30.0, 30.0], [30.0, 30.0], [30.7, 30.7], [31.0, 31.0], [31.0, 31.0], [31.5, 31.5], [32.0, 32.0], [32.0, 32.0], [32.0, 32.0], [33.0, 33.0], [33.0, 33.0], [33.5, 33.5], [33.5, 33.5], [34.0, 34.0], [34.0, 34.0], [34.5, 34.5], [35.0, 35.0], [35.0, 35.0], [35.0, 35.0], [35.0, 35.0], [36.0, 36.0], [36.0, 36.0], [37.0, 37.0], [38.5, 38.5], [38.5, 38.5], [39.5, 39.5], [41.0, 41.0], [41.0, 41.0], [9.8, 6.7], [10.5, 7.5], [10.6, 7.0], [11.0, 9.7], [11.2, 9.8], [11.3, 8.7], [11.8, 10.0], [11.8, 9.9], [12.0, 9.8], [12.2, 12.2], [12.4, 13.4], [13.0, 12.2], [14.3, 19.7], [15.0, 19.9]]\n",
            "[1, 1, 1, 1, 1, 1, 1, 1, 1, 1, 1, 1, 1, 1, 1, 1, 1, 1, 1, 1, 1, 1, 1, 1, 1, 1, 1, 1, 1, 1, 1, 1, 1, 1, 1, 0, 0, 0, 0, 0, 0, 0, 0, 0, 0, 0, 0, 0, 0]\n"
          ]
        },
        {
          "output_type": "display_data",
          "data": {
            "text/plain": [
              "<Figure size 432x288 with 1 Axes>"
            ],
            "image/png": "[encoded data removed]"
          },
          "metadata": {
            "needs_background": "light"
          }
        },
        {
          "output_type": "stream",
          "name": "stdout",
          "text": [
            "[[25.4 25.4]\n",
            " [26.3 26.3]\n",
            " [26.5 26.5]\n",
            " [29.  29. ]\n",
            " [29.  29. ]\n",
            " [29.7 29.7]\n",
            " [29.7 29.7]\n",
            " [30.  30. ]\n",
            " [30.  30. ]\n",
            " [30.7 30.7]\n",
            " [31.  31. ]\n",
            " [31.  31. ]\n",
            " [31.5 31.5]\n",
            " [32.  32. ]\n",
            " [32.  32. ]\n",
            " [32.  32. ]\n",
            " [33.  33. ]\n",
            " [33.  33. ]\n",
            " [33.5 33.5]\n",
            " [33.5 33.5]\n",
            " [34.  34. ]\n",
            " [34.  34. ]\n",
            " [34.5 34.5]\n",
            " [35.  35. ]\n",
            " [35.  35. ]\n",
            " [35.  35. ]\n",
            " [35.  35. ]\n",
            " [36.  36. ]\n",
            " [36.  36. ]\n",
            " [37.  37. ]\n",
            " [38.5 38.5]\n",
            " [38.5 38.5]\n",
            " [39.5 39.5]\n",
            " [41.  41. ]\n",
            " [41.  41. ]\n",
            " [ 9.8  6.7]\n",
            " [10.5  7.5]\n",
            " [10.6  7. ]\n",
            " [11.   9.7]\n",
            " [11.2  9.8]\n",
            " [11.3  8.7]\n",
            " [11.8 10. ]\n",
            " [11.8  9.9]\n",
            " [12.   9.8]\n",
            " [12.2 12.2]\n",
            " [12.4 13.4]\n",
            " [13.  12.2]\n",
            " [14.3 19.7]\n",
            " [15.  19.9]]\n",
            "[1 1 1 1 1 1 1 1 1 1 1 1 1 1 1 1 1 1 1 1 1 1 1 1 1 1 1 1 1 1 1 1 1 1 1 0 0\n",
            " 0 0 0 0 0 0 0 0 0 0 0 0]\n",
            "0.7142857142857143\n"
          ]
        }
      ],
      "source": [
        "bream_length = [25.4, 26.3, 26.5, 29.0, 29.0, 29.7, 29.7, 30.0, 30.0, 30.7, 31.0, 31.0, \n",
        "                31.5, 32.0, 32.0, 32.0, 33.0, 33.0, 33.5, 33.5, 34.0, 34.0, 34.5, 35.0, \n",
        "                35.0, 35.0, 35.0, 36.0, 36.0, 37.0, 38.5, 38.5, 39.5, 41.0, 41.0]\n",
        "bream_weight = [242.0, 290.0, 340.0, 363.0, 430.0, 450.0, 500.0, 390.0, 450.0, 500.0, 475.0, 500.0, \n",
        "                500.0, 340.0, 600.0, 600.0, 700.0, 700.0, 610.0, 650.0, 575.0, 685.0, 620.0, 680.0, \n",
        "                700.0, 725.0, 720.0, 714.0, 850.0, 1000.0, 920.0, 955.0, 925.0, 975.0, 950.0]\n",
        "\n",
        "import matplotlib.pyplot as plt\n",
        "\n",
        "plt.scatter(bream_length, bream_weight)\n",
        "plt.title(\"bream\")\n",
        "plt.xlabel(\"length\")\n",
        "plt.ylabel(\"weight\")\n",
        "plt.show()\n",
        "\n",
        "smelt_length = [9.8, 10.5, 10.6, 11.0, 11.2, 11.3, 11.8, 11.8, 12.0, 12.2, 12.4, 13.0, 14.3, 15.0]\n",
        "smelt_weight = [6.7, 7.5, 7.0, 9.7, 9.8, 8.7, 10.0, 9.9, 9.8, 12.2, 13.4, 12.2, 19.7, 19.9]\n",
        "\n",
        "plt.scatter(smelt_length, smelt_weight)\n",
        "plt.title(\"smelt\")\n",
        "plt.xlabel(\"length\")\n",
        "plt.ylabel(\"weight\")\n",
        "plt.show()\n",
        "\n",
        "\n",
        "length = bream_length + smelt_length\n",
        "weight = bream_length + smelt_weight\n",
        "\n",
        "fish_data = [[l,w] for l,w in zip(length,weight)]\n",
        "\n",
        "print(fish_data)\n",
        "\n",
        "fish_target = [1]*35 + [0] * 14 \n",
        "print(fish_target)\n",
        "\n",
        "from sklearn.neighbors import KNeighborsClassifier\n",
        "\n",
        "kn = KNeighborsClassifier()\n",
        "\n",
        "kn.fit(fish_data, fish_target)\n",
        "\n",
        "kn.score(fish_data,fish_target)\n",
        "\n",
        "plt.scatter(smelt_length, smelt_weight)\n",
        "plt.scatter(bream_length, bream_weight)\n",
        "plt.title(\"smelt/bream\")\n",
        "plt.scatter(30,600,marker='^')\n",
        "plt.xlabel(\"length\")\n",
        "plt.ylabel(\"weight\")\n",
        "plt.show()\n",
        "\n",
        "kn.predict([[30,600]])\n",
        "\n",
        "print(kn._fit_X)\n",
        "\n",
        "print(kn._y)\n",
        "\n",
        "kn49 =KNeighborsClassifier(n_neighbors=49)\n",
        "# n_neighbors=49은 참조할 데이터이다. \n",
        "# 즉 ,참조할 데이터가 49개 \n",
        "\n",
        "kn49 = KNeighborsClassifier(n_neighbors=49)\n",
        "\n",
        "\n",
        "kn49.fit(fish_data, fish_target)\n",
        "kn49.score(fish_data, fish_target)\n",
        "\n",
        "print(35/49)\n",
        "\n",
        "# 참조할 수가 49개인데 총 데이터량이 49개이기에 전체 데이터를 확인 하는 거랑 같다\n",
        "# 때문에 35/49 = 0.7... 이여서 똑같이 나옴  "
      ]
    }
  ]
}